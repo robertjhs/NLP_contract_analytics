{
 "cells": [
  {
   "cell_type": "code",
   "execution_count": 10,
   "source": [
    "import numpy as np\n",
    "import pandas as pd\n",
    "import re\n",
    "from transformers import pipeline, DebertaV2Tokenizer, DebertaV2Model\n",
    "import torch"
   ],
   "outputs": [],
   "metadata": {}
  },
  {
   "cell_type": "code",
   "execution_count": 2,
   "source": [
    "# ls local_data/unlabeled_contracts/2020"
   ],
   "outputs": [],
   "metadata": {}
  },
  {
   "cell_type": "code",
   "execution_count": 3,
   "source": [
    "filepath = 'local_data/unlabeled_contracts/2020/000019119.txt'"
   ],
   "outputs": [],
   "metadata": {}
  },
  {
   "cell_type": "code",
   "execution_count": 4,
   "source": [
    "with open(filepath, 'r', encoding=\"utf-8\") as file:\n",
    "    contract = file.read().replace('\\n', '')"
   ],
   "outputs": [],
   "metadata": {}
  },
  {
   "cell_type": "code",
   "execution_count": 5,
   "source": [
    "contract"
   ],
   "outputs": [
    {
     "output_type": "execute_result",
     "data": {
      "text/plain": [
       "'Exhibit 10.22\\xa0CERTAIN CONFIDENTIAL INFORMATION CONTAINED IN THIS DOCUMENT, MARKED BY [***],HAS BEEN OMITTED BECAUSE IT IS BOTH (I) NOT MATERIAL AND (II)\\xa0WOULD LIKELY CAUSECOMPETITIVE HARM IF PUBLICLY DISCLOSED.\\xa0AMENDMENT NO. 1 TO THE COMMON STOCK ISSUANCE AGREEMENTThis Amendment No. 1 to the Common Stock Issuance Agreement (“Amendment”) ismade and entered into, effective as of December 17, 2019 (“Amendment EffectiveDate”), by and between Vir Biotechnology, Inc., a Delaware corporation withoffices at with an office at 499 Illinois Street, San Francisco, California94158 (“Vir”), and Alnylam Pharmaceuticals, Inc., a Delaware corporation locatedat 300 Third Street, Cambridge, Massachusetts 02142 (“Alnylam”). Each of Vir andAlnylam are referred to in this Amendment as a “Party” and together, the“Parties”.BackgroundWHEREAS, the Parties have entered into that certain Collaboration and LicenseAgreement effective as of October 16, 2017 (as amended by Letter Agreement datedNovember 13, 2018, the “Collaboration Agreement”) pursuant to which the Partiesentered into a collaboration to develop and commercialize certain compounds andproducts based on Alnylam’s RNAi technology, in connection with Hepatitis B andother infectious diseases;WHEREAS, the Parties are amending certain provisions of the CollaborationAgreement applicable to Alnylam’s funding of the POC Study for the initial HBVLicensed Product and related milestone triggers;WHEREAS, concurrent with the execution of the Collaboration Agreement, theParties also entered into a Common Stock Issuance Agreement (referred to as the“Stock Purchase Agreement”), and the Parties desire to amend the Stock PurchaseAgreement to align a milestone payment trigger contained therein with thechanges being made pursuant to such\\xa0\\xa0amendment of the Collaboration Agreement;andWHEREAS, Section 12(g) of the Stock Purchase Agreement provides that the StockPurchase Agreement may only be modified by a written instrument duly executed byan authorized representative of each Party.NOW, THEREFORE, the Parties desire, for good and valuable consideration, thereceipt and sufficiency of which is hereby acknowledged, to amend the StockPurchase Agreement as set forth in this Amendment.Article 1DEFINITIONS1.1Capitalized Terms. Capitalized terms used in this Amendment shall have themeanings set forth in the Collaboration Agreement and Stock Purchase Agreementunless otherwise defined and set forth in this Amendment. Except as expresslymodified by this Amendment, the remainder of the Stock Purchase Agreement shallremain in force in accordance with its terms and without any modification.Article 2AMENDMENTS2.1Amendment of Section 1(e)(i). Section 1(e)(i) of the Stock Purchase Agreementis hereby amended in its entirety, as follows:(e) For purposes of this agreement:(i) “Milestone Condition” shall mean [***].\\xa0--------------------------------------------------------------------------------\\xa0Article 3MISCELLANEOUS3.1No Waiver. Nothing in this Amendment is intended to operate as a waiver ofany claims either Party may have against the other Party arising prior to thedate of this Amendment, including any claims arising prior to the date of thisAmendment with respect to the performance of the Parties under the StockPurchase Agreement. Any delay in enforcing a party’s rights under this Amendmentor the Stock Purchase Agreement, or any waiver as to a particular default orother matter, will not constitute a waiver of such party’s rights to the futureenforcement of its rights under this Amendment or the Stock Purchase Agreement,except with respect to an express written waiver relating to a particular matterfor a particular period of time signed by an authorized representative of thewaiving Party, as applicable.3.2Miscellaneous. This Amendment shall be governed by and interpreted inaccordance with the law of the State of Delaware, U.S.A.. Except as specificallyamended by this Amendment, the terms and conditions of the Stock PurchaseAgreement shall remain in full force and effect. This Amendment may be executedin two or more counterparts, each of which shall be deemed an original, but allof which together shall constitute one and the same instrument. Signaturestransmitted by PDF shall be treated as original signatures. Except to the extentexpressly provided herein, the Stock Purchase Agreement, as amended by thisAmendment, together with the Commitment Letter between the Parties entered intoon the Commitment Letter Date and the Collaboration Agreement, including allappendices, exhibits and schedules to each of the foregoing, constitute theentire agreement between the Parties relating to the subject matter of the StockPurchase Agreement and supersedes all previous oral and written communications,including all previous agreements, between the Parties.[Remainder of Page Intentionally Left Blank]\\xa0\\xa0\\xa0\\xa0--------------------------------------------------------------------------------\\xa0IN WITNESS WHEREOF, on the Amendment Effective Date Vir and Alnylam have causedthis Amendment to be duly executed by their authorized representatives.\\xa0Vir Biotechnology, Inc.\\xa0\\xa0\\xa0By:\\xa0/s/ George Scangos\\xa0\\xa0\\xa0Name:\\xa0George Scangos\\xa0\\xa0\\xa0Title:\\xa0President and Chief Executive Officer\\xa0Alnylam Pharmaceuticals, Inc.\\xa0\\xa0\\xa0By:\\xa0/s/John Maraganore\\xa0\\xa0\\xa0Name:\\xa0John Maraganore\\xa0\\xa0\\xa0Title:\\xa0Chief Executive Officer\\xa0\\xa0'"
      ]
     },
     "metadata": {},
     "execution_count": 5
    }
   ],
   "metadata": {}
  },
  {
   "cell_type": "code",
   "execution_count": 6,
   "source": [
    "# Clean up and pre-process the text.\n",
    "def pre_process_text(text):\n",
    "    # Simple replacement for \"\\n\"\n",
    "    text = text.replace(\"\\n\", \" \")     \n",
    "    \n",
    "    # Simple replacement for \"\\xa0\"\n",
    "    text = text.replace(\"\\xa0\", \" \")  \n",
    "    \n",
    "    # Simple replacement for \"\\x0c\"\n",
    "    text = text.replace(\"\\x0c\", \" \")\n",
    "    \n",
    "    # Get rid of multiple dots\n",
    "    regex = \"\\ \\.\\ \"\n",
    "    subst = \".\"\n",
    "    text = re.sub(regex, subst, text, 0)\n",
    "    \n",
    "    # Get rid of underscores\n",
    "    regex = \"_\"\n",
    "    subst = \" \"\n",
    "    text = re.sub(regex, subst, text, 0)\n",
    "    \n",
    "    # Get rid of multiple dashes\n",
    "    regex = \"--+\"\n",
    "    subst = \" \"\n",
    "    text = re.sub(regex, subst, text, 0)\n",
    "    \n",
    "    # Get rid of multiple stars\n",
    "    regex = \"\\*+\"\n",
    "    subst = \"*\"\n",
    "    text = re.sub(regex, subst, text, 0)\n",
    "    \n",
    "    # Get rid of multiple whitespace\n",
    "    regex = \"\\ +\"\n",
    "    subst = \" \"\n",
    "    text = re.sub(regex, subst, text, 0)\n",
    "    \n",
    "    #Strip leading and trailing whitespace\n",
    "    text = text.strip()\n",
    "    \n",
    "    return text\n"
   ],
   "outputs": [],
   "metadata": {}
  },
  {
   "cell_type": "code",
   "execution_count": 7,
   "source": [
    "def get_questions_from_csv():\n",
    "    df = pd.read_csv(\"./data/category_descriptions.csv\")\n",
    "    q_dict = {}\n",
    "    for i in range(df.shape[0]):\n",
    "        category = df.iloc[i, 0].split(\"Category: \")[1]\n",
    "        description = df.iloc[i, 1].split(\"Description: \")[1]\n",
    "        q_dict[category.title()] = description\n",
    "    return q_dict"
   ],
   "outputs": [],
   "metadata": {}
  },
  {
   "cell_type": "code",
   "execution_count": 8,
   "source": [
    "qtype_dict = get_questions_from_csv()\n",
    "labels = [l for l in qtype_dict.keys()]\n",
    "questions = [q for q in qtype_dict.values()]"
   ],
   "outputs": [],
   "metadata": {}
  },
  {
   "cell_type": "code",
   "execution_count": 13,
   "source": [
    "# labels, questions"
   ],
   "outputs": [],
   "metadata": {}
  },
  {
   "cell_type": "code",
   "execution_count": 9,
   "source": [
    "context = pre_process_text(contract)"
   ],
   "outputs": [],
   "metadata": {}
  },
  {
   "cell_type": "code",
   "execution_count": 11,
   "source": [
    "qapipe = pipeline('question-answering', model='./models/deberta-v2-xlarge', tokenizer='./models/deberta-v2-xlarge')"
   ],
   "outputs": [],
   "metadata": {}
  },
  {
   "cell_type": "code",
   "execution_count": 16,
   "source": [
    "answers = [qapipe(question=question, context=context) for question in questions]"
   ],
   "outputs": [],
   "metadata": {}
  },
  {
   "cell_type": "code",
   "execution_count": 15,
   "source": [
    "answers"
   ],
   "outputs": [
    {
     "output_type": "execute_result",
     "data": {
      "text/plain": [
       "{'score': 0.2594452500343323, 'start': 586, 'end': 593, 'answer': 'Alnylam'}"
      ]
     },
     "metadata": {},
     "execution_count": 15
    }
   ],
   "metadata": {}
  },
  {
   "cell_type": "code",
   "execution_count": 22,
   "source": [
    "tokenizer = DebertaV2Tokenizer.from_pretrained('./models/deberta-v2-xlarge')\n",
    "model = DebertaV2Model.from_pretrained('./models/deberta-v2-xlarge')"
   ],
   "outputs": [
    {
     "output_type": "stream",
     "name": "stderr",
     "text": [
      "Some weights of the model checkpoint at ./models/deberta-v2-xlarge were not used when initializing DebertaV2Model: ['qa_outputs.bias', 'qa_outputs.weight']\n",
      "- This IS expected if you are initializing DebertaV2Model from the checkpoint of a model trained on another task or with another architecture (e.g. initializing a BertForSequenceClassification model from a BertForPreTraining model).\n",
      "- This IS NOT expected if you are initializing DebertaV2Model from the checkpoint of a model that you expect to be exactly identical (initializing a BertForSequenceClassification model from a BertForSequenceClassification model).\n"
     ]
    }
   ],
   "metadata": {}
  },
  {
   "cell_type": "code",
   "execution_count": 24,
   "source": [
    "answers = []\n",
    "\n",
    "# for question in questions:\n",
    "question = questions[0]\n",
    "\n",
    "inputs = tokenizer(question, context, padding='max_length', truncation='only_second', return_tensors='pt')\n",
    "input_ids = inputs['input_ids'].tolist()[0]\n",
    "outputs = model(**inputs)\n",
    "# answer_start_scores = outputs.start_logits\n",
    "# answer_end_scores = outputs.end_logits\n",
    "# Get the most likely beginning of answer with the argmax of the score\n",
    "answer_start = torch.argmax(answer_start_scores)\n",
    "# Get the most likely end of answer with the argmax of the score\n",
    "answer_end = torch.argmax(answer_end_scores) + 1\n",
    "answer = tokenizer.convert_tokens_to_string(tokenizer.convert_ids_to_tokens(input_ids[answer_start:answer_end]))\n",
    "answers.append(answer)"
   ],
   "outputs": [],
   "metadata": {}
  },
  {
   "cell_type": "code",
   "execution_count": null,
   "source": [
    "answers"
   ],
   "outputs": [
    {
     "output_type": "error",
     "ename": "Error",
     "evalue": "Session cannot generate requests",
     "traceback": [
      "Error: Session cannot generate requests",
      "at w.executeCodeCell (/root/.vscode-server/extensions/ms-toolsai.jupyter-2021.8.1236758218/out/client/extension.js:90:327199)",
      "at w.execute (/root/.vscode-server/extensions/ms-toolsai.jupyter-2021.8.1236758218/out/client/extension.js:90:326520)",
      "at w.start (/root/.vscode-server/extensions/ms-toolsai.jupyter-2021.8.1236758218/out/client/extension.js:90:322336)",
      "at runMicrotasks (<anonymous>)",
      "at processTicksAndRejections (internal/process/task_queues.js:93:5)",
      "at async t.CellExecutionQueue.executeQueuedCells (/root/.vscode-server/extensions/ms-toolsai.jupyter-2021.8.1236758218/out/client/extension.js:90:336863)",
      "at async t.CellExecutionQueue.start (/root/.vscode-server/extensions/ms-toolsai.jupyter-2021.8.1236758218/out/client/extension.js:90:336403)"
     ]
    }
   ],
   "metadata": {}
  },
  {
   "cell_type": "code",
   "execution_count": null,
   "source": [],
   "outputs": [],
   "metadata": {}
  }
 ],
 "metadata": {
  "orig_nbformat": 4,
  "language_info": {
   "name": "python",
   "version": "3.6.9",
   "mimetype": "text/x-python",
   "codemirror_mode": {
    "name": "ipython",
    "version": 3
   },
   "pygments_lexer": "ipython3",
   "nbconvert_exporter": "python",
   "file_extension": ".py"
  },
  "kernelspec": {
   "name": "python3",
   "display_name": "Python 3.6.9 64-bit"
  },
  "interpreter": {
   "hash": "31f2aee4e71d21fbe5cf8b01ff0e069b9275f58929596ceb00d14d90e3e16cd6"
  }
 },
 "nbformat": 4,
 "nbformat_minor": 2
}