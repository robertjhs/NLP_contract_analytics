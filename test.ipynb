{
 "cells": [
  {
   "cell_type": "code",
   "execution_count": 1,
   "source": [
    "import os\n",
    "import json\n",
    "import pandas as pd\n",
    "import numpy as np\n",
    "from sklearn import metrics"
   ],
   "outputs": [],
   "metadata": {}
  },
  {
   "cell_type": "code",
   "execution_count": 2,
   "source": [
    "IOU_THRESH = 0.5"
   ],
   "outputs": [],
   "metadata": {}
  },
  {
   "cell_type": "code",
   "execution_count": 3,
   "source": [
    "def get_questions_from_csv():\n",
    "    df = pd.read_csv(\"./data/category_descriptions.csv\")\n",
    "    q_dict = {}\n",
    "    for i in range(df.shape[0]):\n",
    "        category = df.iloc[i, 0].split(\"Category: \")[1]\n",
    "        description = df.iloc[i, 1].split(\"Description: \")[1]\n",
    "        q_dict[category.title()] = description\n",
    "    return q_dict"
   ],
   "outputs": [],
   "metadata": {}
  },
  {
   "cell_type": "code",
   "execution_count": 32,
   "source": [
    "qtype_dict = get_questions_from_csv()\n",
    "qtype_dict"
   ],
   "outputs": [
    {
     "output_type": "execute_result",
     "data": {
      "text/plain": [
       "{'Document Name': 'The name of the contract',\n",
       " 'Parties': 'The two or more parties who signed the contract',\n",
       " 'Agreement Date': 'The date of the contract',\n",
       " 'Effective Date': 'The date when the contract is effective\\xa0',\n",
       " 'Expiration Date': \"On what date will the contract's initial term expire?\",\n",
       " 'Renewal Term': 'What is the renewal term after the initial term expires? This includes automatic extensions and unilateral extensions with prior notice.',\n",
       " 'Notice Period To Terminate Renewal': 'What is the notice period required to terminate renewal?',\n",
       " 'Governing Law': \"Which state/country's law governs the interpretation of the contract?\",\n",
       " 'Most Favored Nation': 'Is there a clause that if a third party gets better terms on the licensing or sale of technology/goods/services described in the contract, the buyer of such technology/goods/services under the contract shall be entitled to those better terms?',\n",
       " 'Non-Compete': 'Is there a restriction on the ability of a party to compete with the counterparty or operate in a certain geography or business or technology sector?\\xa0',\n",
       " 'Exclusivity': 'Is there an exclusive dealing\\xa0 commitment with the counterparty? This includes a commitment to procure all “requirements” from one party of certain technology, goods, or services or a prohibition on licensing or selling technology, goods or services to third parties, or a prohibition on\\xa0 collaborating or working with other parties), whether during the contract or\\xa0 after the contract ends (or both).',\n",
       " 'No-Solicit Of Customers': 'Is a party restricted from contracting or soliciting customers or partners of the counterparty, whether during the contract or after the contract ends (or both)?',\n",
       " 'Competitive Restriction Exception': 'This category includes the exceptions or carveouts to Non-Compete, Exclusivity and No-Solicit of Customers above.',\n",
       " 'No-Solicit Of Employees': 'Is there a restriction on a party’s soliciting or hiring employees and/or contractors from the\\xa0 counterparty, whether during the contract or after the contract ends (or both)?',\n",
       " 'Non-Disparagement': 'Is there a requirement on a party not to disparage the counterparty?',\n",
       " 'Termination For Convenience': 'Can a party terminate this\\xa0 contract without cause (solely by giving a notice and allowing a waiting\\xa0 period to expire)?',\n",
       " 'Rofr/Rofo/Rofn': 'Is there a clause granting one party a right of first refusal, right of first offer or right of first negotiation to purchase, license, market, or distribute equity interest, technology, assets, products or services?',\n",
       " 'Change Of Control': 'Does one party have the right to terminate or is consent or notice required of the counterparty if such party undergoes a change of control, such as a merger, stock sale, transfer of all or substantially all of its assets or business, or assignment by operation of law?',\n",
       " 'Anti-Assignment': 'Is consent or notice required of a party if the contract is assigned to a third party?',\n",
       " 'Revenue/Profit Sharing': 'Is one party required to share revenue or profit with the counterparty for any technology, goods, or\\xa0services?',\n",
       " 'Price Restrictions': 'Is there a restriction on the\\xa0 ability of a party to raise or reduce prices of technology, goods, or\\xa0 services provided?',\n",
       " 'Minimum Commitment': 'Is there a minimum order size or minimum amount or units per-time period that one party must buy from the counterparty under the contract?',\n",
       " 'Volume Restriction': 'Is there a fee increase or consent requirement, etc. if one party’s use of the product/services exceeds certain threshold?',\n",
       " 'Ip Ownership Assignment': 'Does intellectual property created\\xa0 by one party become the property of the counterparty, either per the terms of the contract or upon the occurrence of certain events?',\n",
       " 'Joint Ip Ownership': 'Is there any clause providing for joint or shared ownership of intellectual property between the parties to the contract?',\n",
       " 'License Grant': 'Does the contract contain a license granted by one party to its counterparty?',\n",
       " 'Non-Transferable License': 'Does the contract limit the ability of a party to transfer the license being granted to a third party?',\n",
       " 'Affiliate License-Licensor': 'Does the contract contain a license grant by affiliates of the licensor or that includes intellectual property of affiliates of the licensor?\\xa0',\n",
       " 'Affiliate License-Licensee': 'Does the contract contain a license grant to a licensee (incl. sublicensor) and the affiliates of such licensee/sublicensor?',\n",
       " 'Unlimited/All-You-Can-Eat-License': 'Is there a clause granting one party an “enterprise,” “all you can eat” or unlimited usage license?',\n",
       " 'Irrevocable Or Perpetual License': 'Does the contract contain a\\xa0 license grant that is irrevocable or perpetual?',\n",
       " 'Source Code Escrow': 'Is one party required to deposit its source code into escrow with a third party, which can be released to the counterparty upon the occurrence of certain events (bankruptcy,\\xa0 insolvency, etc.)?',\n",
       " 'Post-Termination Services': 'Is a party subject to obligations after the termination or expiration of a contract, including any post-termination transition, payment, transfer of IP, wind-down, last-buy, or similar commitments?',\n",
       " 'Audit Rights': 'Does a party have the right to\\xa0 audit the books, records, or physical locations of the counterparty to ensure compliance with the contract?',\n",
       " 'Uncapped Liability': 'Is a party’s liability uncapped upon the breach of its obligation in the contract? This also includes uncap liability for a particular type of breach such as IP infringement or breach of confidentiality obligation.',\n",
       " 'Cap On Liability': 'Does the contract include a cap on liability upon the breach of a party’s obligation? This includes time limitation for the counterparty to bring claims or maximum amount for recovery.',\n",
       " 'Liquidated Damages': 'Does the contract contain a clause that would award either party liquidated damages for breach or a fee upon the termination of a contract (termination fee)?',\n",
       " 'Warranty Duration': 'What is the duration of any\\xa0 warranty against defects or errors in technology, products, or services\\xa0 provided under the contract?',\n",
       " 'Insurance': 'Is there a requirement for insurance that must be maintained by one party for the benefit of the counterparty?',\n",
       " 'Covenant Not To Sue': 'Is a party restricted from contesting the validity of the counterparty’s ownership of intellectual property or otherwise bringing a claim against the counterparty for matters unrelated to the contract?',\n",
       " 'Third Party Beneficiary': 'Is there a non-contracting party who is a beneficiary to some or all of the clauses in the contract and therefore can enforce its rights against a contracting party?'}"
      ]
     },
     "metadata": {},
     "execution_count": 32
    }
   ],
   "metadata": {}
  },
  {
   "cell_type": "code",
   "execution_count": 6,
   "source": [
    "def load_json(path):\n",
    "    with open(path, \"r\") as f:\n",
    "        dict = json.load(f)\n",
    "    return dict"
   ],
   "outputs": [],
   "metadata": {}
  },
  {
   "cell_type": "code",
   "execution_count": 7,
   "source": [
    "def get_preds(nbest_preds_dict, conf=None):\n",
    "    results = {}\n",
    "    for question_id in nbest_preds_dict:\n",
    "        list_of_pred_dicts = nbest_preds_dict[question_id]\n",
    "        preds = {}\n",
    "        for pred_dict in list_of_pred_dicts:\n",
    "            text = pred_dict[\"text\"]\n",
    "            prob = pred_dict[\"probability\"]\n",
    "            if not text == \"\":  # don't count empty string as a prediction\n",
    "                preds[text] = prob\n",
    "        preds_list = [pred for pred in preds.keys() if preds[pred] > conf]\n",
    "        results[question_id] = preds_list\n",
    "    return results"
   ],
   "outputs": [],
   "metadata": {}
  },
  {
   "cell_type": "code",
   "execution_count": 8,
   "source": [
    "def get_answers(test_json_dict):\n",
    "    results = {}\n",
    "\n",
    "    data = test_json_dict[\"data\"]\n",
    "    for contract in data:\n",
    "        for para in contract[\"paragraphs\"]:\n",
    "            qas = para[\"qas\"]\n",
    "            for qa in qas:\n",
    "                id = qa[\"id\"]\n",
    "                answers = qa[\"answers\"]\n",
    "                answers = [answers[i][\"text\"] for i in range(len(answers))]\n",
    "                results[id] = answers\n",
    "\n",
    "    return results"
   ],
   "outputs": [],
   "metadata": {}
  },
  {
   "cell_type": "code",
   "execution_count": 9,
   "source": [
    "def get_jaccard(gt, pred):\n",
    "    remove_tokens = [\".\", \",\", \";\", \":\"]\n",
    "    for token in remove_tokens:\n",
    "        gt = gt.replace(token, \"\")\n",
    "        pred = pred.replace(token, \"\")\n",
    "    gt = gt.lower()\n",
    "    pred = pred.lower()\n",
    "    gt = gt.replace(\"/\", \" \")\n",
    "    pred = pred.replace(\"/\", \" \")\n",
    "\n",
    "    gt_words = set(gt.split(\" \"))\n",
    "    pred_words = set(pred.split(\" \"))\n",
    "\n",
    "    intersection = gt_words.intersection(pred_words)\n",
    "    union = gt_words.union(pred_words)\n",
    "    jaccard = len(intersection) / len(union)\n",
    "    return jaccard"
   ],
   "outputs": [],
   "metadata": {}
  },
  {
   "cell_type": "code",
   "execution_count": 10,
   "source": [
    "def compute_precision_recall(gt_dict, preds_dict, category=None):\n",
    "    tp, fp, fn = 0, 0, 0\n",
    "\n",
    "    for key in gt_dict:\n",
    "        if category and category not in key:\n",
    "            continue\n",
    "\n",
    "        substr_ok = \"Parties\" in key\n",
    "\n",
    "        answers = gt_dict[key]\n",
    "        preds = preds_dict[key]\n",
    "\n",
    "        # first check if answers is empty\n",
    "        if len(answers) == 0:\n",
    "            if len(preds) > 0:\n",
    "                fp += len(preds)  # false positive for each one\n",
    "        else:\n",
    "            for ans in answers:\n",
    "                assert len(ans) > 0\n",
    "                # check if there is a match\n",
    "                match_found = False\n",
    "                for pred in preds:\n",
    "                    if substr_ok:\n",
    "                        is_match = get_jaccard(ans, pred) >= IOU_THRESH or ans in pred\n",
    "                    else:\n",
    "                        is_match = get_jaccard(ans, pred) >= IOU_THRESH\n",
    "                    if is_match:\n",
    "                        match_found = True\n",
    "\n",
    "                if match_found:\n",
    "                    tp += 1\n",
    "                else:\n",
    "                    fn += 1\n",
    "\n",
    "            # now also get any fps by looping through preds\n",
    "            for pred in preds:\n",
    "                # Check if there's a match. if so, don't count (don't want to double count based on the above)\n",
    "                # but if there's no match, then this is a false positive.\n",
    "                # (Note: we get the true positives in the above loop instead of this loop so that we don't double count\n",
    "                # multiple predictions that are matched with the same answer.)\n",
    "                match_found = False\n",
    "                for ans in answers:\n",
    "                    assert len(ans) > 0\n",
    "                    if substr_ok:\n",
    "                        is_match = get_jaccard(ans, pred) >= IOU_THRESH or ans in pred\n",
    "                    else:\n",
    "                        is_match = get_jaccard(ans, pred) >= IOU_THRESH\n",
    "                    if is_match:\n",
    "                        match_found = True\n",
    "\n",
    "                if not match_found:\n",
    "                    fp += 1\n",
    "\n",
    "    precision = tp / (tp + fp) if tp + fp > 0 else np.nan\n",
    "    recall = tp / (tp + fn) if tp + fn > 0 else np.nan\n",
    "\n",
    "    return precision, recall"
   ],
   "outputs": [],
   "metadata": {}
  },
  {
   "cell_type": "code",
   "execution_count": 11,
   "source": [
    "def process_precisions(precision):\n",
    "    \"\"\"\n",
    "    Processes precisions to ensure that precision and recall don't both get worse\n",
    "    Assumes the list precision is sorted in order of recalls\n",
    "    \"\"\"\n",
    "    precision_best = precision[::-1]\n",
    "    for i in range(1, len(precision_best)):\n",
    "        precision_best[i] = max(precision_best[i-1], precision_best[i])\n",
    "    precision = precision_best[::-1]\n",
    "    return precision"
   ],
   "outputs": [],
   "metadata": {}
  },
  {
   "cell_type": "code",
   "execution_count": 12,
   "source": [
    "def get_prec_at_recall(precisions, recalls, confs, recall_thresh=0.9):\n",
    "    \"\"\"\n",
    "    Assumes recalls are sorted in increasing order\n",
    "    \"\"\"\n",
    "    processed_precisions = process_precisions(precisions)\n",
    "    prec_at_recall = 0\n",
    "    for prec, recall, conf in zip(processed_precisions, recalls, confs):\n",
    "        if recall >= recall_thresh:\n",
    "            prec_at_recall = prec\n",
    "            break\n",
    "    return prec_at_recall, conf"
   ],
   "outputs": [],
   "metadata": {}
  },
  {
   "cell_type": "code",
   "execution_count": 13,
   "source": [
    "def get_precisions_recalls(pred_dict, gt_dict, category=None):\n",
    "    precisions = [1]\n",
    "    recalls = [0]\n",
    "    confs = []\n",
    "    for conf in list(np.arange(0.99, 0, -0.01)) + [0.001, 0]:\n",
    "        conf_thresh_pred_dict = get_preds(pred_dict, conf)\n",
    "        prec, recall = compute_precision_recall(gt_dict, conf_thresh_pred_dict, category=category)\n",
    "        precisions.append(prec)\n",
    "        recalls.append(recall)\n",
    "        confs.append(conf)\n",
    "    return precisions, recalls, confs"
   ],
   "outputs": [],
   "metadata": {}
  },
  {
   "cell_type": "code",
   "execution_count": 14,
   "source": [
    "def get_aupr(precisions, recalls):\n",
    "    processed_precisions = process_precisions(precisions)\n",
    "    aupr = metrics.auc(recalls, processed_precisions)\n",
    "    if np.isnan(aupr):\n",
    "        return 0\n",
    "    return aupr"
   ],
   "outputs": [],
   "metadata": {}
  },
  {
   "cell_type": "code",
   "execution_count": 15,
   "source": [
    "def get_results(model_path, gt_dict, verbose=False):\n",
    "    predictions_path = os.path.join(model_path, \"nbest_predictions_.json\")\n",
    "    name = model_path.split(\"/\")[-1]\n",
    "\n",
    "    pred_dict = load_json(predictions_path)\n",
    "\n",
    "    assert sorted(list(pred_dict.keys())) == sorted(list(gt_dict.keys()))\n",
    "\n",
    "    precisions, recalls, confs = get_precisions_recalls(pred_dict, gt_dict)\n",
    "    prec_at_90_recall, _ = get_prec_at_recall(precisions, recalls, confs, recall_thresh=0.9)\n",
    "    prec_at_80_recall, _ = get_prec_at_recall(precisions, recalls, confs, recall_thresh=0.8)\n",
    "    aupr = get_aupr(precisions, recalls)\n",
    "\n",
    "    if verbose:\n",
    "        print(\"AUPR: {:.3f}, Precision at 80% Recall: {:.3f}, Precision at 90% Recall: {:.3f}\".format(aupr, prec_at_80_recall, prec_at_90_recall))\n",
    "\n",
    "    # now save results as a dataframe and return\n",
    "    results = {\"name\": name, \"aupr\": aupr, \"prec_at_80_recall\": prec_at_80_recall, \"prec_at_90_recall\": prec_at_90_recall}\n",
    "    return results"
   ],
   "outputs": [],
   "metadata": {}
  },
  {
   "cell_type": "code",
   "execution_count": 16,
   "source": [
    "test_json_path = \"./data/test.json\"\n",
    "model_path = \"./models/deberta-v2-xlarge\"\n",
    "save_dir = \"./results\"\n",
    "if not os.path.exists(save_dir): os.mkdir(save_dir)"
   ],
   "outputs": [],
   "metadata": {}
  },
  {
   "cell_type": "code",
   "execution_count": 17,
   "source": [
    "gt_dict = load_json(test_json_path)\n",
    "gt_dict = get_answers(gt_dict)"
   ],
   "outputs": [],
   "metadata": {}
  },
  {
   "cell_type": "code",
   "execution_count": null,
   "source": [
    "for k,v in gt_dict.items():\n",
    "    print(k,v)"
   ],
   "outputs": [],
   "metadata": {}
  },
  {
   "cell_type": "code",
   "execution_count": 25,
   "source": [
    "results = get_results(model_path, gt_dict, verbose=True)"
   ],
   "outputs": [
    {
     "output_type": "stream",
     "name": "stdout",
     "text": [
      "AUPR: 0.478, Precision at 80% Recall: 0.440, Precision at 90% Recall: 0.178\n"
     ]
    }
   ],
   "metadata": {}
  },
  {
   "cell_type": "code",
   "execution_count": 27,
   "source": [
    "results"
   ],
   "outputs": [
    {
     "output_type": "execute_result",
     "data": {
      "text/plain": [
       "{'name': 'deberta-v2-xlarge',\n",
       " 'aupr': 0.4779347388727093,\n",
       " 'prec_at_80_recall': 0.4403155490969483,\n",
       " 'prec_at_90_recall': 0.17828358208955225}"
      ]
     },
     "metadata": {},
     "execution_count": 27
    }
   ],
   "metadata": {}
  },
  {
   "cell_type": "code",
   "execution_count": 28,
   "source": [
    "save_path = os.path.join(save_dir, \"{}.json\".format(model_path.split(\"/\")[-1]))\n",
    "save_path"
   ],
   "outputs": [
    {
     "output_type": "execute_result",
     "data": {
      "text/plain": [
       "'./results/deberta-v2-xlarge.json'"
      ]
     },
     "metadata": {},
     "execution_count": 28
    }
   ],
   "metadata": {}
  },
  {
   "cell_type": "code",
   "execution_count": 29,
   "source": [
    "# with open(save_path, \"w\") as f:\n",
    "    # f.write(\"{}\\n\".format(results))"
   ],
   "outputs": [],
   "metadata": {}
  },
  {
   "cell_type": "code",
   "execution_count": null,
   "source": [],
   "outputs": [],
   "metadata": {}
  }
 ],
 "metadata": {
  "orig_nbformat": 4,
  "language_info": {
   "name": "python",
   "version": "3.6.9",
   "mimetype": "text/x-python",
   "codemirror_mode": {
    "name": "ipython",
    "version": 3
   },
   "pygments_lexer": "ipython3",
   "nbconvert_exporter": "python",
   "file_extension": ".py"
  },
  "kernelspec": {
   "name": "python3",
   "display_name": "Python 3.6.9 64-bit"
  },
  "interpreter": {
   "hash": "31f2aee4e71d21fbe5cf8b01ff0e069b9275f58929596ceb00d14d90e3e16cd6"
  }
 },
 "nbformat": 4,
 "nbformat_minor": 2
}